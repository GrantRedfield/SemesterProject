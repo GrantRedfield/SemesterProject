{
  "nbformat": 4,
  "nbformat_minor": 0,
  "metadata": {
    "colab": {
      "name": "Day_Of_The_Week.ipynb",
      "provenance": [],
      "toc_visible": true
    },
    "kernelspec": {
      "name": "python3",
      "display_name": "Python 3"
    },
    "language_info": {
      "name": "python"
    }
  },
  "cells": [
    {
      "cell_type": "code",
      "metadata": {
        "colab": {
          "base_uri": "https://localhost:8080/",
          "height": 431
        },
        "id": "fT4Umowo683y",
        "outputId": "52b206fb-ec77-4393-d3dd-83c75f769e83"
      },
      "source": [
        "import datetime\n",
        "import pandas as pd\n",
        "import matplotlib.pyplot as plt\n",
        "from IPython.display import display\n",
        "from google.colab import drive\n",
        "drive.mount('/content/drive')\n",
        "\n",
        "\n",
        "\n",
        "\n",
        "week_days_lookup = [\"Monday\",\"Tuesday\",\"Wednesday\",\"Thursday\",\"Friday\",\"Saturday\",\"Sunday\"]\n",
        "\n",
        "week_days= {\"Monday\" : 0,\"Tuesday\" :0 ,\"Wednesday\": 0,\"Thursday\": 0,\"Friday\": 0 ,\"Saturday\": 0 ,\"Sunday\": 0 }\n",
        "\n",
        "\n",
        "terrordata = pd.read_csv(\n",
        "   '/content/GDT_2000_2019.csv')\n",
        "\n",
        "\n",
        "def countWeekdays(year, month, day,counts):\n",
        "    try:\n",
        "        weekday=week_days_lookup[datetime.date(year,month,day).weekday()]\n",
        "        week_days[weekday] = week_days[weekday] + counts\n",
        "    except:\n",
        "        pass\n",
        "\n",
        "\n",
        "collect_dates = terrordata.groupby(['iyear','imonth','iday']).size().reset_index(name='counts')\n",
        "\n",
        "result = [countWeekdays(row[0],row[1],row[2],row[3]) for row in collect_dates[['iyear','imonth','iday','counts']].to_numpy()]\n",
        "\n",
        "print(collect_dates.head())\n",
        "    \n",
        "print(\"HERES THE RESULT\",week_days)\n",
        "\n",
        "plt.bar(week_days.keys(), week_days.values())\n",
        "plt.title('Number of Terrorist Events On Each Day (2000 - 2019)')\n",
        "plt.xlabel('Weekday')\n",
        "plt.ylabel('Number of Attacks')\n",
        "plt.show()\n",
        "\n",
        "\n"
      ],
      "execution_count": 2,
      "outputs": [
        {
          "output_type": "stream",
          "text": [
            "Drive already mounted at /content/drive; to attempt to forcibly remount, call drive.mount(\"/content/drive\", force_remount=True).\n",
            "   iyear  imonth  iday  counts\n",
            "0   2000       1     0       2\n",
            "1   2000       1     1      28\n",
            "2   2000       1     2       4\n",
            "3   2000       1     3      10\n",
            "4   2000       1     4       6\n",
            "HERES THE RESULT {'Monday': 2549, 'Tuesday': 2383, 'Wednesday': 2384, 'Thursday': 2356, 'Friday': 2131, 'Saturday': 2172, 'Sunday': 2354}\n"
          ],
          "name": "stdout"
        },
        {
          "output_type": "display_data",
          "data": {
            "image/png": "[encoded data removed]",
            "text/plain": [
              "<Figure size 432x288 with 1 Axes>"
            ]
          },
          "metadata": {
            "tags": [],
            "needs_background": "light"
          }
        }
      ]
    }
  ]
}