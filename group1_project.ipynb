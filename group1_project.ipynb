{
  "nbformat": 4,
  "nbformat_minor": 0,
  "metadata": {
    "colab": {
      "name": "group1_project.ipynb",
      "provenance": []
    },
    "kernelspec": {
      "name": "python3",
      "display_name": "Python 3"
    },
    "language_info": {
      "name": "python"
    }
  },
  "cells": [
    {
      "cell_type": "code",
      "metadata": {
        "id": "Q6Leh4stVGY-"
      },
      "source": [
        "import pandas as pd\n",
        "import numpy as np\n",
        "import matplotlib.pyplot as plt\n",
        "from google.colab import drive\n",
        "drive.mount('/content/drive')\n",
        "\n",
        "# refer to readme file"
      ],
      "execution_count": null,
      "outputs": []
    },
    {
      "cell_type": "code",
      "metadata": {
        "colab": {
          "base_uri": "https://localhost:8080/",
          "height": 496
        },
        "id": "zMJDjJGWVayQ",
        "outputId": "514820e7-ace1-470a-982b-d6ef4e24cc33"
      },
      "source": [
        "gtd = pd.read_csv('/content/GDT_2000_2019.csv')\n",
        "gtd = gtd[gtd['iyear'] >= 2000]\n",
        "gtd.head()\n",
        "\n",
        "# test that when i search year < 2000, it yields nothing"
      ],
      "execution_count": null,
      "outputs": [
        {
          "output_type": "execute_result",
          "data": {
            "text/html": [
              "<div>\n",
              "<style scoped>\n",
              "    .dataframe tbody tr th:only-of-type {\n",
              "        vertical-align: middle;\n",
              "    }\n",
              "\n",
              "    .dataframe tbody tr th {\n",
              "        vertical-align: top;\n",
              "    }\n",
              "\n",
              "    .dataframe thead th {\n",
              "        text-align: right;\n",
              "    }\n",
              "</style>\n",
              "<table border=\"1\" class=\"dataframe\">\n",
              "  <thead>\n",
              "    <tr style=\"text-align: right;\">\n",
              "      <th></th>\n",
              "      <th>iyear</th>\n",
              "      <th>imonth</th>\n",
              "      <th>iday</th>\n",
              "      <th>country</th>\n",
              "      <th>country_txt</th>\n",
              "      <th>region</th>\n",
              "      <th>region_txt</th>\n",
              "      <th>latitude</th>\n",
              "      <th>longitude</th>\n",
              "      <th>specificity</th>\n",
              "      <th>doubtterr</th>\n",
              "      <th>success</th>\n",
              "      <th>suicide</th>\n",
              "      <th>attacktype1</th>\n",
              "      <th>attacktype1_txt</th>\n",
              "      <th>targtype1</th>\n",
              "      <th>targtype1_txt</th>\n",
              "      <th>targsubtype1</th>\n",
              "      <th>targsubtype1_txt</th>\n",
              "      <th>natlty1</th>\n",
              "      <th>natlty1_txt</th>\n",
              "      <th>gname</th>\n",
              "      <th>motive</th>\n",
              "      <th>nperps</th>\n",
              "      <th>nperpcap</th>\n",
              "      <th>claimed</th>\n",
              "      <th>weaptype1</th>\n",
              "      <th>weaptype1_txt</th>\n",
              "      <th>weapsubtype1</th>\n",
              "      <th>weapsubtype1_txt</th>\n",
              "      <th>nkill</th>\n",
              "      <th>nkillus</th>\n",
              "      <th>nkillter</th>\n",
              "      <th>nwound</th>\n",
              "      <th>nwoundus</th>\n",
              "      <th>nwoundte</th>\n",
              "      <th>property</th>\n",
              "      <th>propextent</th>\n",
              "      <th>propextent_txt</th>\n",
              "      <th>propvalue</th>\n",
              "      <th>ishostkid</th>\n",
              "      <th>nhostkid</th>\n",
              "      <th>nhostkidus</th>\n",
              "      <th>nhours</th>\n",
              "      <th>ndays</th>\n",
              "      <th>ransom</th>\n",
              "      <th>ransomamt</th>\n",
              "      <th>ransomamtus</th>\n",
              "      <th>ransompaid</th>\n",
              "      <th>ransompaidus</th>\n",
              "      <th>hostkidoutcome</th>\n",
              "      <th>hostkidoutcome_txt</th>\n",
              "      <th>nreleased</th>\n",
              "    </tr>\n",
              "  </thead>\n",
              "  <tbody>\n",
              "    <tr>\n",
              "      <th>69832</th>\n",
              "      <td>2000</td>\n",
              "      <td>1</td>\n",
              "      <td>1</td>\n",
              "      <td>139</td>\n",
              "      <td>Namibia</td>\n",
              "      <td>11</td>\n",
              "      <td>Sub-Saharan Africa</td>\n",
              "      <td>-17.910812</td>\n",
              "      <td>19.988303</td>\n",
              "      <td>2.0</td>\n",
              "      <td>0</td>\n",
              "      <td>1</td>\n",
              "      <td>0</td>\n",
              "      <td>2</td>\n",
              "      <td>Armed Assault</td>\n",
              "      <td>1</td>\n",
              "      <td>Business</td>\n",
              "      <td>2.0</td>\n",
              "      <td>Restaurant/Bar/Café</td>\n",
              "      <td>139.0</td>\n",
              "      <td>Namibia</td>\n",
              "      <td>National Union for the Total Independence of A...</td>\n",
              "      <td>Unknown</td>\n",
              "      <td>NaN</td>\n",
              "      <td>0.0</td>\n",
              "      <td>0.0</td>\n",
              "      <td>5</td>\n",
              "      <td>Firearms</td>\n",
              "      <td>5.0</td>\n",
              "      <td>Unknown Gun Type</td>\n",
              "      <td>0.0</td>\n",
              "      <td>0.0</td>\n",
              "      <td>0.0</td>\n",
              "      <td>7.0</td>\n",
              "      <td>0.0</td>\n",
              "      <td>NaN</td>\n",
              "      <td>-9</td>\n",
              "      <td>NaN</td>\n",
              "      <td>NaN</td>\n",
              "      <td>NaN</td>\n",
              "      <td>0.0</td>\n",
              "      <td>NaN</td>\n",
              "      <td>NaN</td>\n",
              "      <td>NaN</td>\n",
              "      <td>NaN</td>\n",
              "      <td>NaN</td>\n",
              "      <td>NaN</td>\n",
              "      <td>NaN</td>\n",
              "      <td>NaN</td>\n",
              "      <td>NaN</td>\n",
              "      <td>NaN</td>\n",
              "      <td>NaN</td>\n",
              "      <td>NaN</td>\n",
              "    </tr>\n",
              "    <tr>\n",
              "      <th>69833</th>\n",
              "      <td>2000</td>\n",
              "      <td>1</td>\n",
              "      <td>1</td>\n",
              "      <td>139</td>\n",
              "      <td>Namibia</td>\n",
              "      <td>11</td>\n",
              "      <td>Sub-Saharan Africa</td>\n",
              "      <td>-17.910812</td>\n",
              "      <td>19.988303</td>\n",
              "      <td>2.0</td>\n",
              "      <td>0</td>\n",
              "      <td>1</td>\n",
              "      <td>0</td>\n",
              "      <td>6</td>\n",
              "      <td>Hostage Taking (Kidnapping)</td>\n",
              "      <td>1</td>\n",
              "      <td>Business</td>\n",
              "      <td>11.0</td>\n",
              "      <td>Entertainment/Cultural/Stadium/Casino</td>\n",
              "      <td>139.0</td>\n",
              "      <td>Namibia</td>\n",
              "      <td>National Union for the Total Independence of A...</td>\n",
              "      <td>Unknown</td>\n",
              "      <td>NaN</td>\n",
              "      <td>0.0</td>\n",
              "      <td>0.0</td>\n",
              "      <td>5</td>\n",
              "      <td>Firearms</td>\n",
              "      <td>5.0</td>\n",
              "      <td>Unknown Gun Type</td>\n",
              "      <td>0.0</td>\n",
              "      <td>0.0</td>\n",
              "      <td>0.0</td>\n",
              "      <td>7.0</td>\n",
              "      <td>0.0</td>\n",
              "      <td>NaN</td>\n",
              "      <td>-9</td>\n",
              "      <td>NaN</td>\n",
              "      <td>NaN</td>\n",
              "      <td>NaN</td>\n",
              "      <td>1.0</td>\n",
              "      <td>20.0</td>\n",
              "      <td>0.0</td>\n",
              "      <td>NaN</td>\n",
              "      <td>-99.0</td>\n",
              "      <td>0.0</td>\n",
              "      <td>NaN</td>\n",
              "      <td>NaN</td>\n",
              "      <td>NaN</td>\n",
              "      <td>NaN</td>\n",
              "      <td>7.0</td>\n",
              "      <td>Unknown</td>\n",
              "      <td>-99.0</td>\n",
              "    </tr>\n",
              "    <tr>\n",
              "      <th>69834</th>\n",
              "      <td>2000</td>\n",
              "      <td>1</td>\n",
              "      <td>1</td>\n",
              "      <td>92</td>\n",
              "      <td>India</td>\n",
              "      <td>6</td>\n",
              "      <td>South Asia</td>\n",
              "      <td>32.925224</td>\n",
              "      <td>75.135264</td>\n",
              "      <td>1.0</td>\n",
              "      <td>1</td>\n",
              "      <td>1</td>\n",
              "      <td>0</td>\n",
              "      <td>2</td>\n",
              "      <td>Armed Assault</td>\n",
              "      <td>3</td>\n",
              "      <td>Police</td>\n",
              "      <td>22.0</td>\n",
              "      <td>Police Building (headquarters, station, school)</td>\n",
              "      <td>92.0</td>\n",
              "      <td>India</td>\n",
              "      <td>Lashkar-e-Taiba (LeT)</td>\n",
              "      <td>Unknown</td>\n",
              "      <td>NaN</td>\n",
              "      <td>0.0</td>\n",
              "      <td>0.0</td>\n",
              "      <td>5</td>\n",
              "      <td>Firearms</td>\n",
              "      <td>5.0</td>\n",
              "      <td>Unknown Gun Type</td>\n",
              "      <td>1.0</td>\n",
              "      <td>0.0</td>\n",
              "      <td>NaN</td>\n",
              "      <td>2.0</td>\n",
              "      <td>0.0</td>\n",
              "      <td>NaN</td>\n",
              "      <td>-9</td>\n",
              "      <td>NaN</td>\n",
              "      <td>NaN</td>\n",
              "      <td>NaN</td>\n",
              "      <td>0.0</td>\n",
              "      <td>NaN</td>\n",
              "      <td>NaN</td>\n",
              "      <td>NaN</td>\n",
              "      <td>NaN</td>\n",
              "      <td>NaN</td>\n",
              "      <td>NaN</td>\n",
              "      <td>NaN</td>\n",
              "      <td>NaN</td>\n",
              "      <td>NaN</td>\n",
              "      <td>NaN</td>\n",
              "      <td>NaN</td>\n",
              "      <td>NaN</td>\n",
              "    </tr>\n",
              "    <tr>\n",
              "      <th>69835</th>\n",
              "      <td>2000</td>\n",
              "      <td>1</td>\n",
              "      <td>1</td>\n",
              "      <td>1003</td>\n",
              "      <td>Kosovo</td>\n",
              "      <td>9</td>\n",
              "      <td>Eastern Europe</td>\n",
              "      <td>42.659809</td>\n",
              "      <td>20.307119</td>\n",
              "      <td>1.0</td>\n",
              "      <td>0</td>\n",
              "      <td>1</td>\n",
              "      <td>0</td>\n",
              "      <td>3</td>\n",
              "      <td>Bombing/Explosion</td>\n",
              "      <td>14</td>\n",
              "      <td>Private Citizens &amp; Property</td>\n",
              "      <td>76.0</td>\n",
              "      <td>House/Apartment/Residence</td>\n",
              "      <td>103.0</td>\n",
              "      <td>Kazakhstan</td>\n",
              "      <td>Unknown</td>\n",
              "      <td>Unknown</td>\n",
              "      <td>NaN</td>\n",
              "      <td>0.0</td>\n",
              "      <td>0.0</td>\n",
              "      <td>6</td>\n",
              "      <td>Explosives</td>\n",
              "      <td>16.0</td>\n",
              "      <td>Unknown Explosive Type</td>\n",
              "      <td>0.0</td>\n",
              "      <td>0.0</td>\n",
              "      <td>0.0</td>\n",
              "      <td>1.0</td>\n",
              "      <td>0.0</td>\n",
              "      <td>0.0</td>\n",
              "      <td>-9</td>\n",
              "      <td>NaN</td>\n",
              "      <td>NaN</td>\n",
              "      <td>NaN</td>\n",
              "      <td>0.0</td>\n",
              "      <td>NaN</td>\n",
              "      <td>NaN</td>\n",
              "      <td>NaN</td>\n",
              "      <td>NaN</td>\n",
              "      <td>NaN</td>\n",
              "      <td>NaN</td>\n",
              "      <td>NaN</td>\n",
              "      <td>NaN</td>\n",
              "      <td>NaN</td>\n",
              "      <td>NaN</td>\n",
              "      <td>NaN</td>\n",
              "      <td>NaN</td>\n",
              "    </tr>\n",
              "    <tr>\n",
              "      <th>69836</th>\n",
              "      <td>2000</td>\n",
              "      <td>1</td>\n",
              "      <td>1</td>\n",
              "      <td>182</td>\n",
              "      <td>Somalia</td>\n",
              "      <td>11</td>\n",
              "      <td>Sub-Saharan Africa</td>\n",
              "      <td>2.059819</td>\n",
              "      <td>45.326115</td>\n",
              "      <td>1.0</td>\n",
              "      <td>1</td>\n",
              "      <td>1</td>\n",
              "      <td>0</td>\n",
              "      <td>2</td>\n",
              "      <td>Armed Assault</td>\n",
              "      <td>14</td>\n",
              "      <td>Private Citizens &amp; Property</td>\n",
              "      <td>77.0</td>\n",
              "      <td>Laborer (General)/Occupation Identified</td>\n",
              "      <td>182.0</td>\n",
              "      <td>Somalia</td>\n",
              "      <td>Unknown</td>\n",
              "      <td>It was possible the attack was a form of clan-...</td>\n",
              "      <td>NaN</td>\n",
              "      <td>0.0</td>\n",
              "      <td>0.0</td>\n",
              "      <td>5</td>\n",
              "      <td>Firearms</td>\n",
              "      <td>5.0</td>\n",
              "      <td>Unknown Gun Type</td>\n",
              "      <td>6.0</td>\n",
              "      <td>0.0</td>\n",
              "      <td>0.0</td>\n",
              "      <td>10.0</td>\n",
              "      <td>0.0</td>\n",
              "      <td>0.0</td>\n",
              "      <td>0</td>\n",
              "      <td>NaN</td>\n",
              "      <td>NaN</td>\n",
              "      <td>NaN</td>\n",
              "      <td>0.0</td>\n",
              "      <td>NaN</td>\n",
              "      <td>NaN</td>\n",
              "      <td>NaN</td>\n",
              "      <td>NaN</td>\n",
              "      <td>NaN</td>\n",
              "      <td>NaN</td>\n",
              "      <td>NaN</td>\n",
              "      <td>NaN</td>\n",
              "      <td>NaN</td>\n",
              "      <td>NaN</td>\n",
              "      <td>NaN</td>\n",
              "      <td>NaN</td>\n",
              "    </tr>\n",
              "  </tbody>\n",
              "</table>\n",
              "</div>"
            ],
            "text/plain": [
              "       iyear  imonth  iday  ...  hostkidoutcome hostkidoutcome_txt  nreleased\n",
              "69832   2000       1     1  ...             NaN                NaN        NaN\n",
              "69833   2000       1     1  ...             7.0            Unknown      -99.0\n",
              "69834   2000       1     1  ...             NaN                NaN        NaN\n",
              "69835   2000       1     1  ...             NaN                NaN        NaN\n",
              "69836   2000       1     1  ...             NaN                NaN        NaN\n",
              "\n",
              "[5 rows x 53 columns]"
            ]
          },
          "metadata": {
            "tags": []
          },
          "execution_count": 2
        }
      ]
    },
    {
      "cell_type": "code",
      "metadata": {
        "colab": {
          "base_uri": "https://localhost:8080/"
        },
        "id": "gSsSYphaTdpM",
        "outputId": "a3611dd8-33fc-47cd-fbb7-ea8194df8890"
      },
      "source": [
        "# number of events over time\n",
        "\n",
        "time = gtd.groupby(['iyear', 'imonth']).count()['iday']\n",
        "time"
      ],
      "execution_count": null,
      "outputs": [
        {
          "output_type": "execute_result",
          "data": {
            "text/plain": [
              "iyear  imonth\n",
              "2000   1         184\n",
              "       2         112\n",
              "       3         100\n",
              "       4         104\n",
              "       5         130\n",
              "                ... \n",
              "2019   8         639\n",
              "       9         664\n",
              "       10        623\n",
              "       11        512\n",
              "       12        652\n",
              "Name: iday, Length: 240, dtype: int64"
            ]
          },
          "metadata": {
            "tags": []
          },
          "execution_count": 3
        }
      ]
    },
    {
      "cell_type": "code",
      "metadata": {
        "colab": {
          "base_uri": "https://localhost:8080/",
          "height": 519
        },
        "id": "Ue7p3G7NT62o",
        "outputId": "f11a869a-6f7c-457c-8ed8-d0a885ad4701"
      },
      "source": [
        "time_plot = time.plot.line(figsize= (16, 10))\n",
        "time_plot.set_title('Number of Terrorist Attacks Over Time')\n",
        "time_plot.set_xlabel('Year, Month')\n",
        "time_plot.set_ylabel('Number of Terrorist Attacks')"
      ],
      "execution_count": null,
      "outputs": [
        {
          "output_type": "execute_result",
          "data": {
            "text/plain": [
              "Text(0, 0.5, 'Number of Terrorist Attacks')"
            ]
          },
          "metadata": {
            "tags": []
          },
          "execution_count": 4
        },
        {
          "output_type": "display_data",
          "data": {
            "image/png": "[encoded data removed]",
            "text/plain": [
              "<Figure size 1152x720 with 1 Axes>"
            ]
          },
          "metadata": {
            "tags": [],
            "needs_background": "light"
          }
        }
      ]
    },
    {
      "cell_type": "code",
      "metadata": {
        "colab": {
          "base_uri": "https://localhost:8080/"
        },
        "id": "owSIkaTwqhTk",
        "outputId": "0b8a5b59-fc5f-4572-fc87-1590e0401b3b"
      },
      "source": [
        "# what is the most common attack type\n",
        "\n",
        "type_1 = gtd.groupby('attacktype1_txt').count()['iyear'].sort_values(ascending= False)\n",
        "type_1"
      ],
      "execution_count": null,
      "outputs": [
        {
          "output_type": "execute_result",
          "data": {
            "text/plain": [
              "attacktype1_txt\n",
              "Bombing/Explosion                      66047\n",
              "Armed Assault                          31168\n",
              "Hostage Taking (Kidnapping)            10069\n",
              "Assassination                           8533\n",
              "Facility/Infrastructure Attack          6954\n",
              "Unknown                                 6919\n",
              "Unarmed Assault                          777\n",
              "Hostage Taking (Barricade Incident)      494\n",
              "Hijacking                                389\n",
              "Name: iyear, dtype: int64"
            ]
          },
          "metadata": {
            "tags": []
          },
          "execution_count": 5
        }
      ]
    },
    {
      "cell_type": "code",
      "metadata": {
        "colab": {
          "base_uri": "https://localhost:8080/",
          "height": 452
        },
        "id": "qi7JSluFq9oh",
        "outputId": "d4402d2a-c09c-4b39-f471-b40efd589164"
      },
      "source": [
        "type_1_plot = type_1.plot.barh(figsize= (16, 10))\n",
        "type_1_plot.set_title('Number of Terrorist Attacks by Attack Type')\n",
        "type_1_plot.set_xlabel('Number of Attacks')\n",
        "type_1_plot.set_ylabel('Attack Type')"
      ],
      "execution_count": null,
      "outputs": [
        {
          "output_type": "execute_result",
          "data": {
            "text/plain": [
              "Text(0, 0.5, 'Attack Type')"
            ]
          },
          "metadata": {
            "tags": []
          },
          "execution_count": 6
        },
        {
          "output_type": "display_data",
          "data": {
            "image/png": "[encoded data removed]",
            "text/plain": [
              "<Figure size 1152x720 with 1 Axes>"
            ]
          },
          "metadata": {
            "tags": [],
            "needs_background": "light"
          }
        }
      ]
    },
    {
      "cell_type": "code",
      "metadata": {
        "colab": {
          "base_uri": "https://localhost:8080/"
        },
        "id": "91hKhXpbWiGo",
        "outputId": "7ada01d5-064a-48b0-e89d-30f96d9da483"
      },
      "source": [
        "# what event type leads to the most fatalities\n",
        "\n",
        "type_nkill = gtd.groupby('attacktype1_txt').mean('nkill')['nkill'].sort_values(ascending= False)\n",
        "type_nkill"
      ],
      "execution_count": null,
      "outputs": [
        {
          "output_type": "execute_result",
          "data": {
            "text/plain": [
              "attacktype1_txt\n",
              "Hijacking                              9.711310\n",
              "Hostage Taking (Barricade Incident)    8.409382\n",
              "Unknown                                5.069051\n",
              "Hostage Taking (Kidnapping)            3.613299\n",
              "Armed Assault                          3.218063\n",
              "Bombing/Explosion                      2.160063\n",
              "Assassination                          1.228434\n",
              "Unarmed Assault                        0.670116\n",
              "Facility/Infrastructure Attack         0.406300\n",
              "Name: nkill, dtype: float64"
            ]
          },
          "metadata": {
            "tags": []
          },
          "execution_count": 7
        }
      ]
    },
    {
      "cell_type": "code",
      "metadata": {
        "colab": {
          "base_uri": "https://localhost:8080/",
          "height": 452
        },
        "id": "qs7B-2ZHXJK1",
        "outputId": "5a0e671f-cb95-417f-f2e1-8a4f696be7e2"
      },
      "source": [
        "type_nkill_plot = type_nkill.plot(kind= 'barh', figsize= (16, 10))\n",
        "type_nkill_plot.set_title('Average Number of People Killed by Attack Type')\n",
        "type_nkill_plot.set_xlabel('Average Number of People Killed in Each Attack')\n",
        "type_nkill_plot.set_ylabel('Attack Type')"
      ],
      "execution_count": null,
      "outputs": [
        {
          "output_type": "execute_result",
          "data": {
            "text/plain": [
              "Text(0, 0.5, 'Attack Type')"
            ]
          },
          "metadata": {
            "tags": []
          },
          "execution_count": 8
        },
        {
          "output_type": "display_data",
          "data": {
            "image/png": "[encoded data removed]",
            "text/plain": [
              "<Figure size 1152x720 with 1 Axes>"
            ]
          },
          "metadata": {
            "tags": [],
            "needs_background": "light"
          }
        }
      ]
    },
    {
      "cell_type": "code",
      "metadata": {
        "colab": {
          "base_uri": "https://localhost:8080/"
        },
        "id": "p1uM3MC9XTUR",
        "outputId": "e38b8082-716b-48ed-ce5b-84abb08d31f6"
      },
      "source": [
        "# does the motive of the attack have any impact?\n",
        "\n",
        "motive_nkill = gtd.groupby('motive').sum('nkill')['nkill'].sort_values(ascending= False)\n",
        "motive_nkill\n",
        "\n",
        "# this isn't helpful :("
      ],
      "execution_count": null,
      "outputs": [
        {
          "output_type": "execute_result",
          "data": {
            "text/plain": [
              "motive\n",
              "Unknown                                                                                                                                                                                                                                                                                                                                                                                                                  45314.0\n",
              "The specific motive for the attack is unknown.                                                                                                                                                                                                                                                                                                                                                                           24376.0\n",
              "The Islamic State of Iraq and the Levant (ISIL) claimed responsibility and stated that the attacks were in revenge for the killing of ISIL leader Abdul-Rahman al-Beilawy.                                                                                                                                                                                                                                                1570.0\n",
              "The specific motive is unknown; however, sources stated that the assailants attempted to force members of the Yazidi community to convert to Islam. Sources speculated that the attack is part of a larger trend of sectarian violence between Iraq's majority Muslim and minority Yazidi communities. Sources also noted that kidnapped Yazidi women were sold into marriage after being forced to convert to Islam.      953.0\n",
              "The specific motive is unknown; however, sources stated that Islamic State of Iraq and the Levant (ISIL) attacked the prison in a campaign to take over Mosul and liberate the populous.                                                                                                                                                                                                                                   670.0\n",
              "                                                                                                                                                                                                                                                                                                                                                                                                                          ...   \n",
              "The specific motive is unknown; however, sources noted that Maoists were opposed to road construction projects in the area.                                                                                                                                                                                                                                                                                                  0.0\n",
              "The specific motive is unknown; however, sources noted that Maoists were opposed to a railway project in the targeted area.                                                                                                                                                                                                                                                                                                  0.0\n",
              "The specific motive is unknown; however, sources noted that Maoists were opposed to Surjagad Lloyds Metals and Energy Limited mining projects.                                                                                                                                                                                                                                                                               0.0\n",
              "The specific motive is unknown; however, sources noted that Maoists were opposed to Pradhan Mantri Gram Sadak Yojana (PMGSY)'s construction projects.                                                                                                                                                                                                                                                                        0.0\n",
              "\"Disgruntled tribesmen have frequently targeted the pipeline in the past few years to try to force the government to improve services to remote and impoverished areas\"                                                                                                                                                                                                                                                      0.0\n",
              "Name: nkill, Length: 15912, dtype: float64"
            ]
          },
          "metadata": {
            "tags": []
          },
          "execution_count": 9
        }
      ]
    },
    {
      "cell_type": "code",
      "metadata": {
        "colab": {
          "base_uri": "https://localhost:8080/",
          "height": 496
        },
        "id": "yKjwVnOIX2lG",
        "outputId": "d766eeac-e0af-4aee-dd0f-51ad87ee571c"
      },
      "source": [
        "# let's focus on hostage situations\n",
        "\n",
        "hostage = gtd[(gtd['attacktype1_txt'] == 'Hostage Taking (Barricade Incident)') | (gtd['attacktype1_txt'] == 'Hostage Taking (Kidnapping)')]\n",
        "hostage.head()"
      ],
      "execution_count": null,
      "outputs": [
        {
          "output_type": "execute_result",
          "data": {
            "text/html": [
              "<div>\n",
              "<style scoped>\n",
              "    .dataframe tbody tr th:only-of-type {\n",
              "        vertical-align: middle;\n",
              "    }\n",
              "\n",
              "    .dataframe tbody tr th {\n",
              "        vertical-align: top;\n",
              "    }\n",
              "\n",
              "    .dataframe thead th {\n",
              "        text-align: right;\n",
              "    }\n",
              "</style>\n",
              "<table border=\"1\" class=\"dataframe\">\n",
              "  <thead>\n",
              "    <tr style=\"text-align: right;\">\n",
              "      <th></th>\n",
              "      <th>iyear</th>\n",
              "      <th>imonth</th>\n",
              "      <th>iday</th>\n",
              "      <th>country</th>\n",
              "      <th>country_txt</th>\n",
              "      <th>region</th>\n",
              "      <th>region_txt</th>\n",
              "      <th>latitude</th>\n",
              "      <th>longitude</th>\n",
              "      <th>specificity</th>\n",
              "      <th>doubtterr</th>\n",
              "      <th>success</th>\n",
              "      <th>suicide</th>\n",
              "      <th>attacktype1</th>\n",
              "      <th>attacktype1_txt</th>\n",
              "      <th>targtype1</th>\n",
              "      <th>targtype1_txt</th>\n",
              "      <th>targsubtype1</th>\n",
              "      <th>targsubtype1_txt</th>\n",
              "      <th>natlty1</th>\n",
              "      <th>natlty1_txt</th>\n",
              "      <th>gname</th>\n",
              "      <th>motive</th>\n",
              "      <th>nperps</th>\n",
              "      <th>nperpcap</th>\n",
              "      <th>claimed</th>\n",
              "      <th>weaptype1</th>\n",
              "      <th>weaptype1_txt</th>\n",
              "      <th>weapsubtype1</th>\n",
              "      <th>weapsubtype1_txt</th>\n",
              "      <th>nkill</th>\n",
              "      <th>nkillus</th>\n",
              "      <th>nkillter</th>\n",
              "      <th>nwound</th>\n",
              "      <th>nwoundus</th>\n",
              "      <th>nwoundte</th>\n",
              "      <th>property</th>\n",
              "      <th>propextent</th>\n",
              "      <th>propextent_txt</th>\n",
              "      <th>propvalue</th>\n",
              "      <th>ishostkid</th>\n",
              "      <th>nhostkid</th>\n",
              "      <th>nhostkidus</th>\n",
              "      <th>nhours</th>\n",
              "      <th>ndays</th>\n",
              "      <th>ransom</th>\n",
              "      <th>ransomamt</th>\n",
              "      <th>ransomamtus</th>\n",
              "      <th>ransompaid</th>\n",
              "      <th>ransompaidus</th>\n",
              "      <th>hostkidoutcome</th>\n",
              "      <th>hostkidoutcome_txt</th>\n",
              "      <th>nreleased</th>\n",
              "    </tr>\n",
              "  </thead>\n",
              "  <tbody>\n",
              "    <tr>\n",
              "      <th>69833</th>\n",
              "      <td>2000</td>\n",
              "      <td>1</td>\n",
              "      <td>1</td>\n",
              "      <td>139</td>\n",
              "      <td>Namibia</td>\n",
              "      <td>11</td>\n",
              "      <td>Sub-Saharan Africa</td>\n",
              "      <td>-17.910812</td>\n",
              "      <td>19.988303</td>\n",
              "      <td>2.0</td>\n",
              "      <td>0</td>\n",
              "      <td>1</td>\n",
              "      <td>0</td>\n",
              "      <td>6</td>\n",
              "      <td>Hostage Taking (Kidnapping)</td>\n",
              "      <td>1</td>\n",
              "      <td>Business</td>\n",
              "      <td>11.0</td>\n",
              "      <td>Entertainment/Cultural/Stadium/Casino</td>\n",
              "      <td>139.0</td>\n",
              "      <td>Namibia</td>\n",
              "      <td>National Union for the Total Independence of A...</td>\n",
              "      <td>Unknown</td>\n",
              "      <td>NaN</td>\n",
              "      <td>0.0</td>\n",
              "      <td>0.0</td>\n",
              "      <td>5</td>\n",
              "      <td>Firearms</td>\n",
              "      <td>5.0</td>\n",
              "      <td>Unknown Gun Type</td>\n",
              "      <td>0.0</td>\n",
              "      <td>0.0</td>\n",
              "      <td>0.0</td>\n",
              "      <td>7.0</td>\n",
              "      <td>0.0</td>\n",
              "      <td>NaN</td>\n",
              "      <td>-9</td>\n",
              "      <td>NaN</td>\n",
              "      <td>NaN</td>\n",
              "      <td>NaN</td>\n",
              "      <td>1.0</td>\n",
              "      <td>20.0</td>\n",
              "      <td>0.0</td>\n",
              "      <td>NaN</td>\n",
              "      <td>-99.0</td>\n",
              "      <td>0.0</td>\n",
              "      <td>NaN</td>\n",
              "      <td>NaN</td>\n",
              "      <td>NaN</td>\n",
              "      <td>NaN</td>\n",
              "      <td>7.0</td>\n",
              "      <td>Unknown</td>\n",
              "      <td>-99.0</td>\n",
              "    </tr>\n",
              "    <tr>\n",
              "      <th>69927</th>\n",
              "      <td>2000</td>\n",
              "      <td>1</td>\n",
              "      <td>13</td>\n",
              "      <td>213</td>\n",
              "      <td>Uganda</td>\n",
              "      <td>11</td>\n",
              "      <td>Sub-Saharan Africa</td>\n",
              "      <td>2.772404</td>\n",
              "      <td>32.288073</td>\n",
              "      <td>2.0</td>\n",
              "      <td>0</td>\n",
              "      <td>1</td>\n",
              "      <td>0</td>\n",
              "      <td>6</td>\n",
              "      <td>Hostage Taking (Kidnapping)</td>\n",
              "      <td>14</td>\n",
              "      <td>Private Citizens &amp; Property</td>\n",
              "      <td>67.0</td>\n",
              "      <td>Unnamed Civilian/Unspecified</td>\n",
              "      <td>213.0</td>\n",
              "      <td>Uganda</td>\n",
              "      <td>Lord's Resistance Army (LRA)</td>\n",
              "      <td>Unknown</td>\n",
              "      <td>NaN</td>\n",
              "      <td>0.0</td>\n",
              "      <td>0.0</td>\n",
              "      <td>13</td>\n",
              "      <td>Unknown</td>\n",
              "      <td>NaN</td>\n",
              "      <td>NaN</td>\n",
              "      <td>0.0</td>\n",
              "      <td>0.0</td>\n",
              "      <td>0.0</td>\n",
              "      <td>0.0</td>\n",
              "      <td>0.0</td>\n",
              "      <td>0.0</td>\n",
              "      <td>1</td>\n",
              "      <td>4.0</td>\n",
              "      <td>Unknown</td>\n",
              "      <td>NaN</td>\n",
              "      <td>1.0</td>\n",
              "      <td>30.0</td>\n",
              "      <td>0.0</td>\n",
              "      <td>NaN</td>\n",
              "      <td>-99.0</td>\n",
              "      <td>0.0</td>\n",
              "      <td>NaN</td>\n",
              "      <td>NaN</td>\n",
              "      <td>NaN</td>\n",
              "      <td>NaN</td>\n",
              "      <td>7.0</td>\n",
              "      <td>Unknown</td>\n",
              "      <td>-99.0</td>\n",
              "    </tr>\n",
              "    <tr>\n",
              "      <th>69943</th>\n",
              "      <td>2000</td>\n",
              "      <td>1</td>\n",
              "      <td>16</td>\n",
              "      <td>92</td>\n",
              "      <td>India</td>\n",
              "      <td>6</td>\n",
              "      <td>South Asia</td>\n",
              "      <td>23.826754</td>\n",
              "      <td>91.431903</td>\n",
              "      <td>1.0</td>\n",
              "      <td>0</td>\n",
              "      <td>1</td>\n",
              "      <td>0</td>\n",
              "      <td>6</td>\n",
              "      <td>Hostage Taking (Kidnapping)</td>\n",
              "      <td>14</td>\n",
              "      <td>Private Citizens &amp; Property</td>\n",
              "      <td>67.0</td>\n",
              "      <td>Unnamed Civilian/Unspecified</td>\n",
              "      <td>92.0</td>\n",
              "      <td>India</td>\n",
              "      <td>National Liberation Front of Tripura (NLFT)</td>\n",
              "      <td>Unknown</td>\n",
              "      <td>NaN</td>\n",
              "      <td>0.0</td>\n",
              "      <td>0.0</td>\n",
              "      <td>5</td>\n",
              "      <td>Firearms</td>\n",
              "      <td>5.0</td>\n",
              "      <td>Unknown Gun Type</td>\n",
              "      <td>0.0</td>\n",
              "      <td>0.0</td>\n",
              "      <td>0.0</td>\n",
              "      <td>0.0</td>\n",
              "      <td>0.0</td>\n",
              "      <td>0.0</td>\n",
              "      <td>0</td>\n",
              "      <td>NaN</td>\n",
              "      <td>NaN</td>\n",
              "      <td>NaN</td>\n",
              "      <td>1.0</td>\n",
              "      <td>4.0</td>\n",
              "      <td>0.0</td>\n",
              "      <td>NaN</td>\n",
              "      <td>-99.0</td>\n",
              "      <td>0.0</td>\n",
              "      <td>NaN</td>\n",
              "      <td>NaN</td>\n",
              "      <td>NaN</td>\n",
              "      <td>NaN</td>\n",
              "      <td>7.0</td>\n",
              "      <td>Unknown</td>\n",
              "      <td>-99.0</td>\n",
              "    </tr>\n",
              "    <tr>\n",
              "      <th>69949</th>\n",
              "      <td>2000</td>\n",
              "      <td>1</td>\n",
              "      <td>17</td>\n",
              "      <td>228</td>\n",
              "      <td>Yemen</td>\n",
              "      <td>10</td>\n",
              "      <td>Middle East &amp; North Africa</td>\n",
              "      <td>NaN</td>\n",
              "      <td>NaN</td>\n",
              "      <td>5.0</td>\n",
              "      <td>0</td>\n",
              "      <td>1</td>\n",
              "      <td>0</td>\n",
              "      <td>6</td>\n",
              "      <td>Hostage Taking (Kidnapping)</td>\n",
              "      <td>14</td>\n",
              "      <td>Private Citizens &amp; Property</td>\n",
              "      <td>71.0</td>\n",
              "      <td>Race/Ethnicity Identified</td>\n",
              "      <td>69.0</td>\n",
              "      <td>France</td>\n",
              "      <td>Unknown</td>\n",
              "      <td>The tribesmen wanted an increase in government...</td>\n",
              "      <td>NaN</td>\n",
              "      <td>0.0</td>\n",
              "      <td>0.0</td>\n",
              "      <td>13</td>\n",
              "      <td>Unknown</td>\n",
              "      <td>NaN</td>\n",
              "      <td>NaN</td>\n",
              "      <td>0.0</td>\n",
              "      <td>0.0</td>\n",
              "      <td>0.0</td>\n",
              "      <td>0.0</td>\n",
              "      <td>0.0</td>\n",
              "      <td>0.0</td>\n",
              "      <td>0</td>\n",
              "      <td>NaN</td>\n",
              "      <td>NaN</td>\n",
              "      <td>NaN</td>\n",
              "      <td>1.0</td>\n",
              "      <td>4.0</td>\n",
              "      <td>0.0</td>\n",
              "      <td>NaN</td>\n",
              "      <td>2.0</td>\n",
              "      <td>0.0</td>\n",
              "      <td>NaN</td>\n",
              "      <td>NaN</td>\n",
              "      <td>NaN</td>\n",
              "      <td>NaN</td>\n",
              "      <td>2.0</td>\n",
              "      <td>Hostage(s) released by perpetrators</td>\n",
              "      <td>4.0</td>\n",
              "    </tr>\n",
              "    <tr>\n",
              "      <th>69977</th>\n",
              "      <td>2000</td>\n",
              "      <td>1</td>\n",
              "      <td>25</td>\n",
              "      <td>228</td>\n",
              "      <td>Yemen</td>\n",
              "      <td>10</td>\n",
              "      <td>Middle East &amp; North Africa</td>\n",
              "      <td>15.502404</td>\n",
              "      <td>45.449854</td>\n",
              "      <td>4.0</td>\n",
              "      <td>1</td>\n",
              "      <td>1</td>\n",
              "      <td>0</td>\n",
              "      <td>6</td>\n",
              "      <td>Hostage Taking (Kidnapping)</td>\n",
              "      <td>21</td>\n",
              "      <td>Utilities</td>\n",
              "      <td>108.0</td>\n",
              "      <td>Oil</td>\n",
              "      <td>217.0</td>\n",
              "      <td>United States</td>\n",
              "      <td>Tribesmen</td>\n",
              "      <td>Unknown</td>\n",
              "      <td>NaN</td>\n",
              "      <td>0.0</td>\n",
              "      <td>0.0</td>\n",
              "      <td>13</td>\n",
              "      <td>Unknown</td>\n",
              "      <td>NaN</td>\n",
              "      <td>NaN</td>\n",
              "      <td>0.0</td>\n",
              "      <td>0.0</td>\n",
              "      <td>0.0</td>\n",
              "      <td>0.0</td>\n",
              "      <td>0.0</td>\n",
              "      <td>0.0</td>\n",
              "      <td>0</td>\n",
              "      <td>NaN</td>\n",
              "      <td>NaN</td>\n",
              "      <td>NaN</td>\n",
              "      <td>1.0</td>\n",
              "      <td>1.0</td>\n",
              "      <td>1.0</td>\n",
              "      <td>NaN</td>\n",
              "      <td>17.0</td>\n",
              "      <td>0.0</td>\n",
              "      <td>NaN</td>\n",
              "      <td>NaN</td>\n",
              "      <td>NaN</td>\n",
              "      <td>NaN</td>\n",
              "      <td>2.0</td>\n",
              "      <td>Hostage(s) released by perpetrators</td>\n",
              "      <td>1.0</td>\n",
              "    </tr>\n",
              "  </tbody>\n",
              "</table>\n",
              "</div>"
            ],
            "text/plain": [
              "       iyear  imonth  ...                   hostkidoutcome_txt  nreleased\n",
              "69833   2000       1  ...                              Unknown      -99.0\n",
              "69927   2000       1  ...                              Unknown      -99.0\n",
              "69943   2000       1  ...                              Unknown      -99.0\n",
              "69949   2000       1  ...  Hostage(s) released by perpetrators        4.0\n",
              "69977   2000       1  ...  Hostage(s) released by perpetrators        1.0\n",
              "\n",
              "[5 rows x 53 columns]"
            ]
          },
          "metadata": {
            "tags": []
          },
          "execution_count": 10
        }
      ]
    },
    {
      "cell_type": "code",
      "metadata": {
        "colab": {
          "base_uri": "https://localhost:8080/",
          "height": 282
        },
        "id": "TSM2grn6Y5em",
        "outputId": "4bbbd9fc-1c6c-44df-caea-5ac9cc1bb218"
      },
      "source": [
        "# what is the distribution of hostage days?\n",
        "\n",
        "ndays = hostage[hostage['ndays'] >= 0]['ndays']\n",
        "\n",
        "ndays.plot(kind= 'hist')"
      ],
      "execution_count": null,
      "outputs": [
        {
          "output_type": "execute_result",
          "data": {
            "text/plain": [
              "<matplotlib.axes._subplots.AxesSubplot at 0x7f0a105bc1d0>"
            ]
          },
          "metadata": {
            "tags": []
          },
          "execution_count": 11
        },
        {
          "output_type": "display_data",
          "data": {
            "image/png": "[encoded data removed]",
            "text/plain": [
              "<Figure size 432x288 with 1 Axes>"
            ]
          },
          "metadata": {
            "tags": [],
            "needs_background": "light"
          }
        }
      ]
    },
    {
      "cell_type": "code",
      "metadata": {
        "colab": {
          "base_uri": "https://localhost:8080/"
        },
        "id": "z_gZCny2ZL2h",
        "outputId": "4f993e7c-f213-4615-adfe-e57e66f62fe7"
      },
      "source": [
        "quartiles = np.nanpercentile(ndays, [25, 50, 75])\n",
        "data_min, data_max = ndays.min(), ndays.max()\n",
        "\n",
        "print('Min: %.3f' % data_min)\n",
        "print('Q1: %.3f' % quartiles[0])\n",
        "print('Median: %.3f' % quartiles[1])\n",
        "print('Q3: %.3f' % quartiles[2])\n",
        "print('Max: %.3f' % data_max)"
      ],
      "execution_count": null,
      "outputs": [
        {
          "output_type": "stream",
          "text": [
            "Min: 0.000\n",
            "Q1: 2.000\n",
            "Median: 5.000\n",
            "Q3: 22.000\n",
            "Max: 2676.000\n"
          ],
          "name": "stdout"
        }
      ]
    },
    {
      "cell_type": "code",
      "metadata": {
        "colab": {
          "base_uri": "https://localhost:8080/",
          "height": 296
        },
        "id": "jKfbd5LTavTK",
        "outputId": "9e53b24c-0719-4477-c8e1-e45fe555dd2d"
      },
      "source": [
        "# is there a relation between the number of hostage days and kills?\n",
        "\n",
        "hostage[hostage['ndays'] >= 0].plot(x= 'ndays', y= 'nkill', kind= 'scatter')"
      ],
      "execution_count": null,
      "outputs": [
        {
          "output_type": "execute_result",
          "data": {
            "text/plain": [
              "<matplotlib.axes._subplots.AxesSubplot at 0x7f0a116a7710>"
            ]
          },
          "metadata": {
            "tags": []
          },
          "execution_count": 13
        },
        {
          "output_type": "display_data",
          "data": {
            "image/png": "[encoded data removed]",
            "text/plain": [
              "<Figure size 432x288 with 1 Axes>"
            ]
          },
          "metadata": {
            "tags": [],
            "needs_background": "light"
          }
        }
      ]
    },
    {
      "cell_type": "code",
      "metadata": {
        "colab": {
          "base_uri": "https://localhost:8080/",
          "height": 296
        },
        "id": "z9xE70CIbXE5",
        "outputId": "0489423a-d36f-48b5-e835-6bdbd925ab34"
      },
      "source": [
        "# what about nkill and nreleased\n",
        "\n",
        "hostage[hostage['nreleased'] >= 0].plot(x= 'nkill', y= 'nreleased', kind= 'scatter')"
      ],
      "execution_count": null,
      "outputs": [
        {
          "output_type": "execute_result",
          "data": {
            "text/plain": [
              "<matplotlib.axes._subplots.AxesSubplot at 0x7f0a1045f7d0>"
            ]
          },
          "metadata": {
            "tags": []
          },
          "execution_count": 14
        },
        {
          "output_type": "display_data",
          "data": {
            "image/png": "[encoded data removed]",
            "text/plain": [
              "<Figure size 432x288 with 1 Axes>"
            ]
          },
          "metadata": {
            "tags": [],
            "needs_background": "light"
          }
        }
      ]
    },
    {
      "cell_type": "code",
      "metadata": {
        "colab": {
          "base_uri": "https://localhost:8080/",
          "height": 282
        },
        "id": "p6-AMumPbvgO",
        "outputId": "26b173c3-2da3-4917-d555-f1af4db29aeb"
      },
      "source": [
        "# what is the distribution of nreleased\n",
        "\n",
        "nreleased = hostage[hostage['nreleased'] >= 0]['nreleased']\n",
        "nreleased.plot(kind= 'hist')"
      ],
      "execution_count": null,
      "outputs": [
        {
          "output_type": "execute_result",
          "data": {
            "text/plain": [
              "<matplotlib.axes._subplots.AxesSubplot at 0x7f0a1045b350>"
            ]
          },
          "metadata": {
            "tags": []
          },
          "execution_count": 15
        },
        {
          "output_type": "display_data",
          "data": {
            "image/png": "[encoded data removed]",
            "text/plain": [
              "<Figure size 432x288 with 1 Axes>"
            ]
          },
          "metadata": {
            "tags": [],
            "needs_background": "light"
          }
        }
      ]
    },
    {
      "cell_type": "code",
      "metadata": {
        "colab": {
          "base_uri": "https://localhost:8080/"
        },
        "id": "xkwxPMGucNw-",
        "outputId": "a413678b-3924-4953-e9dc-527b48b699c8"
      },
      "source": [
        "quartiles = np.nanpercentile(nreleased, [25, 50, 75])\n",
        "data_min, data_max = nreleased.min(), nreleased.max()\n",
        "\n",
        "print('Min: %.3f' % data_min)\n",
        "print('Q1: %.3f' % quartiles[0])\n",
        "print('Median: %.3f' % quartiles[1])\n",
        "print('Q3: %.3f' % quartiles[2])\n",
        "print('Max: %.3f' % data_max)"
      ],
      "execution_count": null,
      "outputs": [
        {
          "output_type": "stream",
          "text": [
            "Min: 0.000\n",
            "Q1: 0.000\n",
            "Median: 1.000\n",
            "Q3: 3.000\n",
            "Max: 2958.000\n"
          ],
          "name": "stdout"
        }
      ]
    },
    {
      "cell_type": "code",
      "metadata": {
        "colab": {
          "base_uri": "https://localhost:8080/"
        },
        "id": "UhoUF6lrTJm6",
        "outputId": "7ca385de-a12e-4979-ea64-54c7090324e2"
      },
      "source": [
        "# Unit Tests for Project Group 1\n",
        "# Brago Aboagye-Nyame, Grant Redfield, Mary Youssef\n",
        "import unittest\n",
        "class ProjectTestCase(unittest.TestCase):\n",
        "    def test_subset(self):\n",
        "        self.assertEqual(gtd[gtd['iyear'] < 2000].shape[0], 0)\n",
        "    # testing that the data subsetted correctly and removed everything before 2000\n",
        "    \n",
        "    def test_yearmonth(self):\n",
        "        self.assertEqual(len(time), 20*12)\n",
        "    # testing that the groupby captured all the year, month combinations\n",
        "    \n",
        "    \n",
        "if __name__ == '__main__':\n",
        "  unittest.main(argv=['first-arg-is-ignored'], exit=False)"
      ],
      "execution_count": null,
      "outputs": [
        {
          "output_type": "stream",
          "text": [
            "..\n",
            "----------------------------------------------------------------------\n",
            "Ran 2 tests in 0.008s\n",
            "\n",
            "OK\n"
          ],
          "name": "stderr"
        }
      ]
    }
  ]
}